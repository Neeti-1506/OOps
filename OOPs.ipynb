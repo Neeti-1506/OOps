{
  "nbformat": 4,
  "nbformat_minor": 0,
  "metadata": {
    "colab": {
      "provenance": []
    },
    "kernelspec": {
      "name": "python3",
      "display_name": "Python 3"
    },
    "language_info": {
      "name": "python"
    }
  },
  "cells": [
    {
      "cell_type": "markdown",
      "source": [
        "#Theortical Questions"
      ],
      "metadata": {
        "id": "8nNi6dSZGtJE"
      }
    },
    {
      "cell_type": "markdown",
      "source": [
        "1. What is Object-Oriented Programming (OOP) ?\n",
        "\n",
        "  - Object-Oriented Programming (OOP) is a programming paradigm that organizes software design around data, or \"objects,\" rather than functions and logic. These objects represent real-world entities and consist of data fields (attributes) and methods (procedures) that operate on the data. This approach models complex systems more intuitively, aligning closely with human cognitive patterns."
      ],
      "metadata": {
        "id": "c8pJFMsjG1YA"
      }
    },
    {
      "cell_type": "markdown",
      "source": [
        " 2. What is a class in OOP?\n",
        "\n",
        "  - A class serves as a blueprint or template for creating objects. It defines the attributes (data) and methods (functions) that the objects created from the class will have.\n",
        "\n",
        "      Example: Consider a Car class that defines attributes like color, model, and year, and methods like drive() and stop().\n"
      ],
      "metadata": {
        "id": "F3RUtj8vH9OU"
      }
    },
    {
      "cell_type": "markdown",
      "source": [
        "3.  What is an object in OOP?\n",
        "\n",
        "  - An object is an instance of a class. When a class is defined, no memory is allocated; memory is allocated only when an object is instantiated from that class.\n",
        "Example: Using the Car class, creating an object myCar with specific values for color, model, and year represents a particular car."
      ],
      "metadata": {
        "id": "VtArdJwsIbUT"
      }
    },
    {
      "cell_type": "code",
      "execution_count": null,
      "metadata": {
        "id": "_T-EoKz-GjXV"
      },
      "outputs": [],
      "source": []
    },
    {
      "cell_type": "markdown",
      "source": [
        "4. H What is the difference between abstraction and encapsulation?\n",
        "  \n",
        "  - **Abstraction** involves simplifying complex reality by modeling classes appropriate to the problem. It focuses on exposing only the essential features of an object or system, hiding unnecessary details.\n",
        "\n",
        "    **Encapsulation** is the bundling of data (attributes) and methods (functions) that operate on that data into a single unit, or class. It restricts direct access to some of an object's components, which can prevent unintended interference and misuse of the data.\n",
        "\n"
      ],
      "metadata": {
        "id": "_SakAW_yI_np"
      }
    },
    {
      "cell_type": "markdown",
      "source": [
        "5.  What are dunder methods in Python?\n",
        "\n",
        "  - Dunder methods (short for \"double underscore\" methods) are special methods that enable objects to interact with built-in functions and operators. These methods are not intended to be called directly by the programmer but are invoked implicitly by the Python interpreter in specific situations."
      ],
      "metadata": {
        "id": "gD2iSvZ8Jj45"
      }
    },
    {
      "cell_type": "markdown",
      "source": [
        "6.  Explain the concept of inheritance in OOP.\n",
        "\n",
        "  - In Object-Oriented Programming (OOP), inheritance is a mechanism that allows a new class (known as a subclass or derived class) to acquire attributes and behaviors (methods) from an existing class (known as a superclass or base class). This promotes code reusability and establishes a hierarchical relationship between classes.\n",
        "\n",
        "  Types of Inheritance:\n",
        "\n",
        "    i) Single Inheritance\n",
        "\n",
        "    ii) Multiple Inheritance\n",
        "\n",
        "    iii) Multilevel Inheritance\n",
        "\n",
        "    iv) Hierarchical Inheritance"
      ],
      "metadata": {
        "id": "6GwVQH6cKRJC"
      }
    },
    {
      "cell_type": "markdown",
      "source": [
        "7.  What is polymorphism in OOP?\n",
        "\n",
        "  - In Object-Oriented Programming (OOP), polymorphism allows entities to take on multiple forms, enabling a single interface to represent different underlying data types. This concept enhances flexibility and integration in code, allowing functions and methods to operate on objects of various classes through a common interface."
      ],
      "metadata": {
        "id": "yy8_055-LU80"
      }
    },
    {
      "cell_type": "markdown",
      "source": [
        "8.  How is encapsulation achieved in Python?\n",
        "\n",
        "  - **Public Attributes and Methods**:\n",
        "\n",
        "    By default, all attributes and methods in a Python class are public, meaning they can be accessed directly from outside the class.\n",
        "\n",
        "    **Protected Attributes and Methods**:\n",
        "\n",
        "    While Python does not have strict access modifiers, a single underscore prefix (e.g., _attribute) is used by convention to indicate that an attribute or method is intended for internal use within a class or module.\n",
        "\n",
        "    **Private Attributes and Methods**:\n",
        "\n",
        "    To further indicate that certain attributes or methods should not be accessed directly, a double underscore prefix (e.g., __attribute) is used.\n",
        "\n"
      ],
      "metadata": {
        "id": "W3plhiSlL74c"
      }
    },
    {
      "cell_type": "code",
      "source": [
        "class Car:\n",
        "    def __init__(self, make, model):\n",
        "        self._make = make  # Protected attribute\n",
        "        self._model = model\n",
        "\n",
        "    def _start_engine(self):  # Protected method\n",
        "        pass"
      ],
      "metadata": {
        "id": "apNuWL6CMpYb"
      },
      "execution_count": null,
      "outputs": []
    },
    {
      "cell_type": "markdown",
      "source": [
        "9.  What is a constructor in Python?\n",
        "\n",
        "  - In Python, a constructor is a special method used to initialize newly created objects. It sets up the initial state of an object by assigning values to its attributes when an instance of the class is created.ython uses the `__init__` method to define constructors. This method is automatically invoked when a new instance of the class is created."
      ],
      "metadata": {
        "id": "OwkS-7XrNwCH"
      }
    },
    {
      "cell_type": "markdown",
      "source": [
        "10. What are class and static methods in Python?\n",
        "\n",
        "  - **Class methods** are bound to the class and not the instance.\n",
        "    They can access and modify class-level attributes but cannot access instance-specific data.\n",
        "    The first parameter of a class method is cls, which refers to the class itself.\n",
        "    To define a class method, use the @classmethod decorator.\n",
        "\n",
        "      **Static methods** do not take self or cls as their first parameter.\n",
        "    They do not have access to the instance or class attributes.\n",
        "    Static methods are used for functions that are related to the class but do not need to access or modify its state.\n",
        "    To define a static method, use the @staticmethod decorator."
      ],
      "metadata": {
        "id": "3h5oEsi6XZWM"
      }
    },
    {
      "cell_type": "markdown",
      "source": [
        "11.  What is method overloading in Python?\n",
        "\n",
        "  - In Python, method overloading—a feature where multiple methods with the same name exist but differ in the number or type of their parameters—is not supported in the traditional sense found in some other programming languages like C++ or Java. Instead, Python allows for a more flexible approach to achieve similar functionality.\n"
      ],
      "metadata": {
        "id": "jIcx4GU3YGZc"
      }
    },
    {
      "cell_type": "markdown",
      "source": [
        "12. What is method overriding in OOP?\n",
        "\n",
        "  - In object-oriented programming (OOP), method overriding allows a subclass to provide a specific implementation of a method that is already defined in its superclass. This mechanism enables polymorphism, where the method that gets executed is determined by the object's actual class, not the type of the reference variable."
      ],
      "metadata": {
        "id": "jjg6je6oYnHE"
      }
    },
    {
      "cell_type": "markdown",
      "source": [
        "13. What is a property decorator in Python?\n",
        "\n",
        "  - In Python, the @property decorator provides a way to define methods in a class that can be accessed like attributes, enabling controlled access to instance variables. This approach allows you to encapsulate data and define custom behavior for attribute access, assignment, and deletion, promoting cleaner and more maintainable code."
      ],
      "metadata": {
        "id": "Wjj0LjDSZQeV"
      }
    },
    {
      "cell_type": "markdown",
      "source": [
        "14. Why is polymorphism important in OOP?\n",
        "\n",
        "  - Polymorphism is a fundamental concept in object-oriented programming (OOP) that allows entities to take on multiple forms. It enables a single interface to represent different underlying data types, promoting flexibility and integration in code.\n",
        "\n",
        "     Polymorphism is essential in OOP as it promotes code reusability, simplifies the codebase, and enhances flexibility and scalability, leading to more maintainable and adaptable software systems."
      ],
      "metadata": {
        "id": "VCOtiFnxZ7TU"
      }
    },
    {
      "cell_type": "markdown",
      "source": [
        "15. What is an abstract class in Python?\n",
        "\n",
        "  - In Python, an abstract class serves as a blueprint for other classes. It allows you to define methods that must be implemented within any subclass, ensuring a consistent interface across different subclasses. Abstract classes cannot be instantiated directly; attempting to do so will raise a TypeError."
      ],
      "metadata": {
        "id": "cpedF478axiP"
      }
    },
    {
      "cell_type": "markdown",
      "source": [
        "16. What are the advantages of OOP?\n",
        "\n",
        "  - Object-Oriented Programming (OOP) offers several advantages that enhance software development:\n",
        "\n",
        "    **Modularity**: OOP organizes code into classes and objects, promoting modularity.\n",
        "\n",
        "    **Reusability**: Through inheritance, OOP enables classes to inherit properties and methods from other classes.\n",
        "\n",
        "    **Scalability and Maintainability**: The modular and hierarchical structure of OOP makes it easier to scale applications and maintain codebases.\n",
        "\n",
        "    **Design Benefits**: OOP encourages the use of design patterns and principles, such as composition over inheritance, leading to more flexible and robust software designs."
      ],
      "metadata": {
        "id": "tAZfzYbDbS1f"
      }
    },
    {
      "cell_type": "markdown",
      "source": [
        "17.  What is the difference between a class variable and an instance variable?\n",
        "\n",
        "  - **Instance variables** are attributes bound to the specific instance of a class. Each object created from the class has its own separate copy of these variables.\n",
        "\n",
        "      **Class Variables** are attributes bound to the class itself, shared among all instances of the class. There is only one copy of a class variable, regardless of the number of instances."
      ],
      "metadata": {
        "id": "Q2QEkuuwcP8f"
      }
    },
    {
      "cell_type": "markdown",
      "source": [
        "18. What is multiple inheritance in Python?\n",
        "  - In Python, multiple inheritance allows a class to inherit attributes and methods from more than one parent class. This feature enables a class to combine functionalities from multiple sources, promoting code reuse and flexibility."
      ],
      "metadata": {
        "id": "YNdmKHIEiQJF"
      }
    },
    {
      "cell_type": "markdown",
      "source": [
        "19.  Explain the purpose of ’__str__’ and ‘__repr__’  methods in Python.\n",
        "\n",
        "  - __str__ Method: Designed to provide a user-friendly, informal string representation of an object. This is the method invoked by the str() function and by the print() function when printing an object.\n",
        "\n",
        "      __repr__ Method: Intended to provide an unambiguous, formal string representation of an object, primarily for debugging and development purposes. The goal is to produce a string that, when passed to the eval() function, would recreate the object (if possible). This method is invoked by the repr() function."
      ],
      "metadata": {
        "id": "0HkBzwPRiaHM"
      }
    },
    {
      "cell_type": "markdown",
      "source": [
        "20.  What is the significance of the ‘super()’ function in Python?\n",
        "\n",
        "  - The super() function is a built-in utility that provides a way to call methods from a parent or sibling class within a subclass. It facilitates access to methods in a superclass from the subclass that inherits from it, promoting code reuse and a cleaner inheritance structure."
      ],
      "metadata": {
        "id": "Hr1YwwR7jsQv"
      }
    },
    {
      "cell_type": "markdown",
      "source": [
        "21.  What is the significance of the __del__ method in Python?\n",
        "\n",
        "\n",
        "\n",
        "  - The __del__ method is a special method known as a destructor or finalizer. It is automatically invoked when an object's reference count reaches zero, just before the object is destroyed by the garbage collector. This provides an opportunity to release external resources, such as files or network connections, that the object may have acquired during its lifetime.\n",
        "\n"
      ],
      "metadata": {
        "id": "EMMJCflykSpF"
      }
    },
    {
      "cell_type": "markdown",
      "source": [
        "22.  What is the difference between @staticmethod and @classmethod in Python?\n",
        "\n",
        " - **Static methods** are not bound to either the class or an instance. They behave like plain functions but reside within the class's namespace.**Class methods** are bound to the class and can modify class state that applies across all instances.\n",
        "\n",
        "  - **Static methods** do not take a special first parameter (like self or cls).**Class methods** take cls as their first parameter, representing the class."
      ],
      "metadata": {
        "id": "B76JcX6-lBWQ"
      }
    },
    {
      "cell_type": "markdown",
      "source": [
        "23.  How does polymorphism work in Python with inheritance?\n",
        "\n",
        "  - i) Method Overriding: When a subclass provides its own implementation of a method that is already defined in its parent class, this is known as method overriding.\n",
        "\n",
        "      ii) Dynamic Method Resolution: Python determines at runtime which method to invoke based on the object's actual class, not the type of the reference.\n",
        "\n",
        "      iii) Abstract Base Classes (ABCs): Python's abc module allows for the creation of abstract base classes, which can define abstract methods that must be implemented by any subclass.\n"
      ],
      "metadata": {
        "id": "usufTeJTmM0F"
      }
    },
    {
      "cell_type": "markdown",
      "source": [
        "24.  What is method chaining in Python OOP?\n",
        "\n",
        "  - Method chaining in Python is a programming technique that allows you to call multiple methods on the same object in a single line of code. This approach enhances code readability and conciseness by eliminating the need for intermediate variables.\n"
      ],
      "metadata": {
        "id": "RjwBrAAnndTR"
      }
    },
    {
      "cell_type": "markdown",
      "source": [
        "25.  What is the purpose of the __call__ method in Python?\n",
        "\n",
        "  - The __call__ method enables instances of a class to be invoked as if they were functions. By implementing this method, you can define custom behavior for when an object is called using function-call syntax."
      ],
      "metadata": {
        "id": "fhfQX41yoUdt"
      }
    },
    {
      "cell_type": "markdown",
      "source": [
        "#Practical Questions\n"
      ],
      "metadata": {
        "id": "3jDNby_PVxoe"
      }
    },
    {
      "cell_type": "markdown",
      "source": [
        "\n",
        "1. Create a parent class Animal with a method speak() that prints a generic message. Create a child class Dog\n",
        "that overrides the speak() method to print \"Bark!\".\n",
        "\n"
      ],
      "metadata": {
        "id": "QGkwHXirV6XE"
      }
    },
    {
      "cell_type": "code",
      "source": [
        "class Animal():\n",
        "  def speak(self):\n",
        "    return \"Animal makes a sound\"\n",
        "class Dog(Animal):\n",
        "  def speak(self):\n",
        "    return \"Bark!\"\n"
      ],
      "metadata": {
        "id": "5wdXHytLV-xj"
      },
      "execution_count": 3,
      "outputs": []
    },
    {
      "cell_type": "code",
      "source": [
        "d= Dog()\n",
        "d.speak()"
      ],
      "metadata": {
        "colab": {
          "base_uri": "https://localhost:8080/",
          "height": 35
        },
        "id": "njCRF9VPV0_2",
        "outputId": "4484b299-f3a8-40d6-c921-569d69722d7a"
      },
      "execution_count": 6,
      "outputs": [
        {
          "output_type": "execute_result",
          "data": {
            "text/plain": [
              "'Bark!'"
            ],
            "application/vnd.google.colaboratory.intrinsic+json": {
              "type": "string"
            }
          },
          "metadata": {},
          "execution_count": 6
        }
      ]
    },
    {
      "cell_type": "markdown",
      "source": [
        "2. Write a program to create an abstract class Shape with a method area(). Derive classes Circle and Rectangle\n",
        "from it and implement the area() method in both.\n",
        "\n",
        "\n"
      ],
      "metadata": {
        "id": "2Vaq3uzvaUQk"
      }
    },
    {
      "cell_type": "code",
      "source": [
        "from abc import ABC, abstractmethod\n",
        "class Shape(ABC):\n",
        "    def area(self):\n",
        "        pass\n",
        "\n",
        "class Circle(Shape):\n",
        "    def __init__(self, radius):\n",
        "        self.radius = radius\n",
        "\n",
        "    def area(self):\n",
        "        return 22/7 * (self.radius ** 2)\n",
        "\n",
        "class Rectangle(Shape):\n",
        "    def __init__(self, length, breadth):\n",
        "        self.length = length\n",
        "        self.breadth = breadth\n",
        "\n",
        "    def area(self):\n",
        "        return self.length * self.breadth\n"
      ],
      "metadata": {
        "id": "hYOMX7kaapiL"
      },
      "execution_count": 11,
      "outputs": []
    },
    {
      "cell_type": "code",
      "source": [
        "circle= Circle(5)\n",
        "rect= Rectangle(8,15)\n",
        "print(\"Area of Circle= \",circle.area())\n",
        "print(\"Area of Rectangle= \",rect.area())"
      ],
      "metadata": {
        "colab": {
          "base_uri": "https://localhost:8080/"
        },
        "id": "1237B_b8cBEz",
        "outputId": "e9f8f21e-7283-49f4-fd36-f4247ccf66f7"
      },
      "execution_count": 17,
      "outputs": [
        {
          "output_type": "stream",
          "name": "stdout",
          "text": [
            "Area of Circle=  78.57142857142857\n",
            "Area of Rectangle=  120\n"
          ]
        }
      ]
    },
    {
      "cell_type": "markdown",
      "source": [
        "3. Implement a multi-level inheritance scenario where a class Vehicle has an attribute type. Derive a class Car\n",
        "and further derive a class ElectricCar that adds a battery attribute.\n",
        "\n"
      ],
      "metadata": {
        "id": "AMXw6PsRfaLR"
      }
    },
    {
      "cell_type": "code",
      "source": [
        "class Vehicle:\n",
        "    def __init__(self, vehicle_type):\n",
        "        self.vehicle_type = vehicle_type\n",
        "\n",
        "    def info(self):\n",
        "        return f\"This is a {self.vehicle_type}.\"\n",
        "class Car(Vehicle):\n",
        "    def __init__(self, vehicle_type, make, model):\n",
        "        super().__init__(vehicle_type)\n",
        "        self.make = make\n",
        "        self.model = model\n",
        "    def info(self):\n",
        "        return f\"{super().info()} It's a {self.make} {self.model} car.\"\n",
        "class ElectricCar(Car):\n",
        "    def __init__(self, vehicle_type, make, model, battery_capacity):\n",
        "        super().__init__(vehicle_type, make, model)\n",
        "        self.battery_capacity = battery_capacity\n",
        "    def info(self):\n",
        "        return f\"{super().info()} It has a {self.battery_capacity} kWh battery.\"\n",
        "\n"
      ],
      "metadata": {
        "id": "bM1heuXlft6g"
      },
      "execution_count": 18,
      "outputs": []
    },
    {
      "cell_type": "code",
      "source": [
        "vehicle = Vehicle(\"vehicle\")\n",
        "car = Car(\"vehicle\", \"Toyota\", \"Corolla\")\n",
        "electric_car = ElectricCar(\"vehicle\", \"Tesla\", \"Model S\", 100)\n",
        "\n",
        "print(vehicle.info())\n",
        "print(car.info())\n",
        "print(electric_car.info())"
      ],
      "metadata": {
        "colab": {
          "base_uri": "https://localhost:8080/"
        },
        "id": "eAC0s5X9gYhY",
        "outputId": "bdbd634d-8b31-4aae-fd83-f694a73b9488"
      },
      "execution_count": 20,
      "outputs": [
        {
          "output_type": "stream",
          "name": "stdout",
          "text": [
            "This is a vehicle.\n",
            "This is a vehicle. It's a Toyota Corolla car.\n",
            "This is a vehicle. It's a Tesla Model S car. It has a 100 kWh battery.\n"
          ]
        }
      ]
    },
    {
      "cell_type": "markdown",
      "source": [
        "4. Demonstrate polymorphism by creating a base class Bird with a method fly(). Create two derived classes\n",
        "Sparrow and Penguin that override the fly() method."
      ],
      "metadata": {
        "id": "uaqlvdjSjO9r"
      }
    },
    {
      "cell_type": "code",
      "source": [
        "class Bird():\n",
        "  def fly(self):\n",
        "    pass\n",
        "class Sparrow(Bird):\n",
        "  def fly(self):\n",
        "    print (\"Sparrows can fly.\")\n",
        "class Penguin(Bird):\n",
        "  def fly(self):\n",
        "    print (\"Penguins can't fly\")\n",
        "\n",
        "def birds_action(bird):\n",
        "  bird.fly()\n",
        "sparrow= Sparrow()\n",
        "penguin= Penguin()\n",
        "Birds= [sparrow, penguin]\n",
        "\n",
        "for bird in Birds:\n",
        "  birds_action(bird)"
      ],
      "metadata": {
        "colab": {
          "base_uri": "https://localhost:8080/"
        },
        "id": "bBYxGnMujRxC",
        "outputId": "269263a6-f686-45b2-c66f-c1b0bc0557d8"
      },
      "execution_count": 46,
      "outputs": [
        {
          "output_type": "stream",
          "name": "stdout",
          "text": [
            "Sparrows can fly.\n",
            "Penguins can't fly\n"
          ]
        }
      ]
    },
    {
      "cell_type": "markdown",
      "source": [
        "5. Write a program to demonstrate encapsulation by creating a class BankAccount with private attributes\n",
        "balance and methods to deposit, withdraw, and check balance.\n",
        "\n",
        "\n"
      ],
      "metadata": {
        "id": "82oP-8zSpVgI"
      }
    },
    {
      "cell_type": "code",
      "source": [
        "class BankAccount():\n",
        "    def __init__(self, owner, initial_bal= 0):\n",
        "        self.owner = owner\n",
        "        self.__balance = initial_bal  # Private attribute\n",
        "\n",
        "    def deposit(self, amount):\n",
        "        if amount > 0:\n",
        "            self.__balance += amount\n",
        "            print(f\"Deposited ${amount}. New balance: ${self.__balance}\")\n",
        "        else:\n",
        "            print(\"Deposit amount must be positive.\")\n",
        "\n",
        "    def withdraw(self, amount):\n",
        "        if 0 < amount <= self.__balance:\n",
        "            self.__balance -= amount\n",
        "            print(f\"Withdrew ${amount}. New balance: ${self.__balance}\")\n",
        "        else:\n",
        "            print(\"Invalid withdrawal amount or insufficient funds.\")\n",
        "\n",
        "    def get_balance(self):\n",
        "        return self.__balance\n",
        "\n",
        "account = BankAccount(\"Ajay\", 10000)\n",
        "account.deposit(5000)\n",
        "account.withdraw(2000)\n",
        "print(f\"{account.owner}'s balance: ${account.get_balance()}\")\n"
      ],
      "metadata": {
        "colab": {
          "base_uri": "https://localhost:8080/"
        },
        "id": "gKOxJ-XapaGJ",
        "outputId": "f30fd8bc-d53a-4f9e-861a-405b60e7f9eb"
      },
      "execution_count": 48,
      "outputs": [
        {
          "output_type": "stream",
          "name": "stdout",
          "text": [
            "Deposited $5000. New balance: $15000\n",
            "Withdrew $2000. New balance: $13000\n",
            "Ajay's balance: $13000\n"
          ]
        }
      ]
    },
    {
      "cell_type": "markdown",
      "source": [
        "6.  Demonstrate runtime polymorphism using a method play() in a base class Instrument. Derive classes Guitar\n",
        "and Piano that implement their own version of play()."
      ],
      "metadata": {
        "id": "8y2qHnjWrDT_"
      }
    },
    {
      "cell_type": "code",
      "source": [
        "class Instrument:\n",
        "    def play(self):\n",
        "        pass\n",
        "class Guitar(Instrument):\n",
        "    def play(self):\n",
        "        print(\"Strumming the guitar.\")\n",
        "class Piano(Instrument):\n",
        "    def play(self):\n",
        "        print(\"Playing the piano.\")\n",
        "\n",
        "# Function to demonstrate polymorphism\n",
        "def performance(instrument):\n",
        "    instrument.play()\n",
        "guitar= Guitar()\n",
        "piano= Piano()\n",
        "\n",
        "instruments = [guitar, piano]\n",
        "for instrument in instruments:\n",
        "      performance(instrument)"
      ],
      "metadata": {
        "colab": {
          "base_uri": "https://localhost:8080/"
        },
        "id": "GC5bH3_8rHtt",
        "outputId": "e2817e45-aa1c-4f35-a3c8-6403134a5a7b"
      },
      "execution_count": 52,
      "outputs": [
        {
          "output_type": "stream",
          "name": "stdout",
          "text": [
            "Strumming the guitar.\n",
            "Playing the piano.\n"
          ]
        }
      ]
    },
    {
      "cell_type": "markdown",
      "source": [
        "7. Create a class MathOperations with a class method add_numbers() to add two numbers and a static\n",
        "method subtract_numbers() to subtract two numbers.\n"
      ],
      "metadata": {
        "id": "DJZ0ASlWtccR"
      }
    },
    {
      "cell_type": "code",
      "source": [
        "class MathOperations():\n",
        "  @classmethod\n",
        "  def add_numbers(cls,x,y):\n",
        "    return (x+y)\n",
        "  @staticmethod\n",
        "  def subtract_numbers(x,y):\n",
        "    return (x-y)\n",
        "plus= MathOperations()\n",
        "print(plus.add_numbers(5,10))\n",
        "minus= MathOperations\n",
        "print(minus.subtract_numbers(15,9))\n"
      ],
      "metadata": {
        "colab": {
          "base_uri": "https://localhost:8080/"
        },
        "id": "dehgyAeatka7",
        "outputId": "620b4a15-e562-462d-da44-fa4a5cbd7aef"
      },
      "execution_count": 60,
      "outputs": [
        {
          "output_type": "stream",
          "name": "stdout",
          "text": [
            "15\n",
            "6\n"
          ]
        }
      ]
    },
    {
      "cell_type": "markdown",
      "source": [
        "8. Implement a class Person with a class method to count the total number of persons created.\n"
      ],
      "metadata": {
        "id": "pHYk0JjZseD5"
      }
    },
    {
      "cell_type": "code",
      "source": [
        "class Person:\n",
        "    instance_count = 0\n",
        "    def __init__(self, name):\n",
        "        self.name = name\n",
        "        Person.instance_count += 1# Increment the instance count upon creation of a new instance\n",
        "\n",
        "    @classmethod\n",
        "    def get_instance_count(cls):\n",
        "        return cls.instance_count\n",
        "person1 = Person(\"Alice\")\n",
        "person2 = Person(\"Bob\")\n",
        "person3 = Person(\"Charlie\")\n",
        "print(f\"Total number of Person instances created: {Person.get_instance_count()}\")"
      ],
      "metadata": {
        "colab": {
          "base_uri": "https://localhost:8080/"
        },
        "id": "Xs64cen3s11f",
        "outputId": "3bae255e-b7df-4ff7-ea0b-42a61ccbf280"
      },
      "execution_count": 54,
      "outputs": [
        {
          "output_type": "stream",
          "name": "stdout",
          "text": [
            "Total number of Person instances created: 3\n"
          ]
        }
      ]
    },
    {
      "cell_type": "markdown",
      "source": [
        "9. Write a class Fraction with attributes numerator and denominator. Override the str method to display the\n",
        "fraction as \"numerator/denominator\"."
      ],
      "metadata": {
        "id": "xPmAgSpHvgEY"
      }
    },
    {
      "cell_type": "code",
      "source": [
        "class Fraction:\n",
        "    def __init__(self, numerator, denominator):\n",
        "        if denominator == 0:\n",
        "            raise ValueError(\"Denominator cannot be zero.\")\n",
        "        self.numerator = numerator\n",
        "        self.denominator = denominator\n",
        "\n",
        "    def __str__(self):\n",
        "        return f\"{self.numerator}/{self.denominator}\"\n",
        "value= Fraction(7,9)\n",
        "print(value)"
      ],
      "metadata": {
        "colab": {
          "base_uri": "https://localhost:8080/"
        },
        "id": "fguiDd7wvhlN",
        "outputId": "a7a5463d-0a3c-48a2-b37d-2eefbb8b1145"
      },
      "execution_count": 62,
      "outputs": [
        {
          "output_type": "stream",
          "name": "stdout",
          "text": [
            "7/9\n"
          ]
        }
      ]
    },
    {
      "cell_type": "markdown",
      "source": [
        "10. Demonstrate operator overloading by creating a class Vector and overriding the add method to add two\n",
        "vectors."
      ],
      "metadata": {
        "id": "cemKNPa0v_sE"
      }
    },
    {
      "cell_type": "code",
      "source": [
        "class Vector:\n",
        "    def __init__(self, x=0, y=0):\n",
        "        self.x = x\n",
        "        self.y = y\n",
        "\n",
        "    def __repr__(self):\n",
        "        return f\"Vector({self.x}, {self.y})\"\n",
        "\n",
        "    def __add__(self, other):\n",
        "        if isinstance(other, Vector):\n",
        "            return Vector(self.x + other.x, self.y + other.y)\n",
        "        return NotImplemented\n",
        "\n",
        "v1 = Vector(9, 3)\n",
        "v2 = Vector(4, 6)\n",
        "v3 = v1 + v2\n",
        "print(f\"v1: {v1}\")\n",
        "print(f\"v2: {v2}\")\n",
        "print(f\"v3 (v1 + v2): {v3}\")"
      ],
      "metadata": {
        "colab": {
          "base_uri": "https://localhost:8080/"
        },
        "id": "zXby_tmSw1hy",
        "outputId": "4bf2c143-0ffa-43e8-80e6-23cf24b56b4e"
      },
      "execution_count": 63,
      "outputs": [
        {
          "output_type": "stream",
          "name": "stdout",
          "text": [
            "v1: Vector(9, 3)\n",
            "v2: Vector(4, 6)\n",
            "v3 (v1 + v2): Vector(13, 9)\n"
          ]
        }
      ]
    },
    {
      "cell_type": "markdown",
      "source": [
        "11. Create a class Person with attributes name and age. Add a method greet() that prints \"Hello, my name is\n",
        "{name} and I am {age} years old.\"\n",
        "\n"
      ],
      "metadata": {
        "id": "MjIV_YFlxW-4"
      }
    },
    {
      "cell_type": "code",
      "source": [
        "class Person():\n",
        "  def __init__(self,name,age):\n",
        "    self.name= name\n",
        "    self.age= age\n",
        "  def greet(self):\n",
        "    print (f\"Hello, my name is {self.name} and I am {self.age} years old\")\n",
        "P1= Person(\"Alexa\",29)\n",
        "P1.greet()\n",
        ""
      ],
      "metadata": {
        "colab": {
          "base_uri": "https://localhost:8080/"
        },
        "id": "uG4BFJNgxZQX",
        "outputId": "97c74bab-7794-495e-b707-ff83418a3a11"
      },
      "execution_count": 70,
      "outputs": [
        {
          "output_type": "stream",
          "name": "stdout",
          "text": [
            "Hello, my name is Alexa and I am 29 years old\n"
          ]
        }
      ]
    },
    {
      "cell_type": "markdown",
      "source": [
        "12. Implement a class Student with attributes name and grades. Create a method average_grade() to compute\n",
        "the average of the grades."
      ],
      "metadata": {
        "id": "i25HgFwKznFx"
      }
    },
    {
      "cell_type": "code",
      "source": [
        "\n",
        "class Student():\n",
        "  def __init__(self, name, grades):\n",
        "    self.name= name\n",
        "    self.grades=grades\n",
        "\n",
        "  def average_grades(self):\n",
        "    if self.grades:\n",
        "      return sum(self.grades) / len(self.grades)\n",
        "    else:\n",
        "      return 0\n",
        "\n",
        "\n",
        "student= Student(\"Surbhi\", [75,65,90,40])\n",
        "print(f\"{student.name}'s average grade: {student.average_grades():.2f}\")\n",
        "\n"
      ],
      "metadata": {
        "colab": {
          "base_uri": "https://localhost:8080/"
        },
        "id": "lYCn9xcGzxy2",
        "outputId": "bdc34790-d6ae-4736-f328-5f344b613dc5"
      },
      "execution_count": 79,
      "outputs": [
        {
          "output_type": "stream",
          "name": "stdout",
          "text": [
            "Surbhi's average grade: 67.50\n"
          ]
        }
      ]
    },
    {
      "cell_type": "markdown",
      "source": [
        "13. Create a class Rectangle with methods set_dimensions() to set the dimensions and area() to calculate the\n",
        "area.\n",
        "\n",
        "\n"
      ],
      "metadata": {
        "id": "5EKqTnQq2R7X"
      }
    },
    {
      "cell_type": "code",
      "source": [
        "class Rectangle:\n",
        "    def __init__(self, length=1, breadth=1):\n",
        "        self.length = length\n",
        "        self.breadth = breadth\n",
        "\n",
        "    def set_dimensions(self, length, breadth):\n",
        "        self.length = length\n",
        "        self.breadth = breadth\n",
        "\n",
        "    def area(self):\n",
        "        return self.length * self.breadth\n",
        "rect = Rectangle()\n",
        "print(f\"Default area: {rect.area()}\")\n",
        "\n",
        "    # Set new dimensions\n",
        "rect.set_dimensions(10, 20)\n",
        "print(f\"Updated area: {rect.area()}\")\n"
      ],
      "metadata": {
        "colab": {
          "base_uri": "https://localhost:8080/"
        },
        "id": "ZGVqEbBG2YrZ",
        "outputId": "7b9c6091-b4eb-45a2-bce4-0eeb947107ea"
      },
      "execution_count": 82,
      "outputs": [
        {
          "output_type": "stream",
          "name": "stdout",
          "text": [
            "Default area: 1\n",
            "Updated area: 200\n"
          ]
        }
      ]
    },
    {
      "cell_type": "markdown",
      "source": [
        "14. Create a class Employee with a method calculate_salary() that computes the salary based on hours worked\n",
        "and hourly rate. Create a derived class Manager that adds a bonus to the salary."
      ],
      "metadata": {
        "id": "-moNOsgO3lkl"
      }
    },
    {
      "cell_type": "code",
      "source": [
        "class Employee:\n",
        "    def __init__(self, name, hours_worked, hourly_rate):\n",
        "        self.name = name\n",
        "        self.hours_worked = hours_worked\n",
        "        self.hourly_rate = hourly_rate\n",
        "\n",
        "    def calculate_salary(self):\n",
        "        return self.hours_worked * self.hourly_rate\n",
        "\n",
        "class Manager(Employee):\n",
        "    def __init__(self, name, hours_worked, hourly_rate, bonus):\n",
        "        super().__init__(name, hours_worked, hourly_rate)\n",
        "        self.bonus = bonus\n",
        "\n",
        "    def calculate_salary(self):\n",
        "        base_salary = super().calculate_salary()\n",
        "        return base_salary + self.bonus\n",
        "employee = Employee(\"Ajay\", 180, 25)\n",
        "manager = Manager(\"vijay\", 150, 35, 5000)\n",
        "\n",
        "print(f\"{employee.name}'s salary: ${employee.calculate_salary()}\")\n",
        "print(f\"{manager.name}'s salary (including bonus): ${manager.calculate_salary()}\")\n"
      ],
      "metadata": {
        "colab": {
          "base_uri": "https://localhost:8080/"
        },
        "id": "uL0wshAF3vGI",
        "outputId": "3e7c792c-2ab2-40aa-b979-6ee0f6d62ad7"
      },
      "execution_count": 83,
      "outputs": [
        {
          "output_type": "stream",
          "name": "stdout",
          "text": [
            "Ajay's salary: $4500\n",
            "vijay's salary (including bonus): $10250\n"
          ]
        }
      ]
    },
    {
      "cell_type": "markdown",
      "source": [
        "15. Create a class Product with attributes name, price, and quantity. Implement a method total_price() that\n",
        "calculates the total price of the product.\n",
        "\n"
      ],
      "metadata": {
        "id": "alEy5EMs4jav"
      }
    },
    {
      "cell_type": "code",
      "source": [
        "class Product:\n",
        "    def __init__(self, name, price, quantity):\n",
        "        self.name = name\n",
        "        self.price = price\n",
        "        self.quantity = quantity\n",
        "\n",
        "    def total_price(self):\n",
        "        return self.price * self.quantity\n",
        "\n",
        "prod = Product(\"Television\", 800, 5)\n",
        "print(f\"Total price for {prod.quantity} {prod.name}s: ${prod.total_price():,.2f}\")"
      ],
      "metadata": {
        "colab": {
          "base_uri": "https://localhost:8080/"
        },
        "id": "MmwbVN574k5h",
        "outputId": "f71ba81a-e0e0-4785-d1ee-f6b1f3197c60"
      },
      "execution_count": 84,
      "outputs": [
        {
          "output_type": "stream",
          "name": "stdout",
          "text": [
            "Total price for 5 Televisions: $4,000.00\n"
          ]
        }
      ]
    },
    {
      "cell_type": "markdown",
      "source": [
        "16. Create a class Animal with an abstract method sound(). Create two derived classes Cow and Sheep that\n",
        "implement the sound() method.\n",
        "\n",
        "\n"
      ],
      "metadata": {
        "id": "Uymj_pxH5N4q"
      }
    },
    {
      "cell_type": "code",
      "source": [
        "from abc import ABC, abstractmethod\n",
        "\n",
        "class Animal(ABC):\n",
        "    def sound(self):\n",
        "        pass\n",
        "\n",
        "class Cow(Animal):\n",
        "    def sound(self):\n",
        "        return \"Cow says moo!\"\n",
        "\n",
        "class Sheep(Animal):\n",
        "    def sound(self):\n",
        "        return \"Sheep says baa!\"\n",
        "cow = Cow()\n",
        "sheep = Sheep()\n",
        "\n",
        "print(cow.sound())\n",
        "print(sheep.sound())\n"
      ],
      "metadata": {
        "colab": {
          "base_uri": "https://localhost:8080/"
        },
        "id": "invTqOaR5Q9V",
        "outputId": "bf42da6e-7a90-4b39-c462-d142a4e9508d"
      },
      "execution_count": 88,
      "outputs": [
        {
          "output_type": "stream",
          "name": "stdout",
          "text": [
            "Cow says moo!\n",
            "Sheep says baa!\n"
          ]
        }
      ]
    },
    {
      "cell_type": "markdown",
      "source": [
        "17. Create a class Book with attributes title, author, and year_published. Add a method get_book_info() that\n",
        "returns a formatted string with the book's details.\n",
        "\n"
      ],
      "metadata": {
        "id": "zdPxGJLp6R8w"
      }
    },
    {
      "cell_type": "code",
      "source": [
        "class Book:\n",
        "    def __init__(self, title, author, year_published):\n",
        "        self.title = title\n",
        "        self.author = author\n",
        "        self.year_published = year_published\n",
        "\n",
        "    def get_book_info(self):\n",
        "        return f\"'{self.title}' by {self.author}, published in {self.year_published}\"\n",
        "\n",
        "book = Book(\"Norwegian Wood\", \"Haruki Murakami\", 1987)\n",
        "print(book.get_book_info())"
      ],
      "metadata": {
        "colab": {
          "base_uri": "https://localhost:8080/"
        },
        "id": "jFl5aPM2zr5r",
        "outputId": "40ea5a38-4259-473b-fc52-230098e1a96c"
      },
      "execution_count": 89,
      "outputs": [
        {
          "output_type": "stream",
          "name": "stdout",
          "text": [
            "'Norwegian Wood' by Haruki Murakami, published in 1987\n"
          ]
        }
      ]
    },
    {
      "cell_type": "markdown",
      "source": [
        "18. Create a class House with attributes address and price. Create a derived class Mansion that adds an\n",
        "attribute number_of_rooms."
      ],
      "metadata": {
        "id": "xb1fSXxv6uFy"
      }
    },
    {
      "cell_type": "code",
      "source": [
        "class House:\n",
        "    def __init__(self, address, price):\n",
        "        self.address = address\n",
        "        self.price = price\n",
        "\n",
        "    def get_info(self):\n",
        "        return f\"Address: {self.address}, Price: ${self.price:,.2f}\"\n",
        "\n",
        "class Mansion(House):\n",
        "    def __init__(self, address, price, number_of_rooms):\n",
        "        super().__init__(address, price)\n",
        "        self.number_of_rooms = number_of_rooms\n",
        "\n",
        "    def get_info(self):\n",
        "        base_info = super().get_info()\n",
        "        return f\"{base_info}, Number of rooms: {self.number_of_rooms}\"\n",
        "\n",
        "house = House(\"47 A Mc Robert Ganj\", 250000)\n",
        "mansion = Mansion(\"11/307 Arya Nagar\", 1200000, 12)\n",
        "\n",
        "print(house.get_info())\n",
        "print(mansion.get_info())"
      ],
      "metadata": {
        "colab": {
          "base_uri": "https://localhost:8080/"
        },
        "id": "DzsCWVRM66EX",
        "outputId": "74bceee9-cc4f-477d-ab6b-4ca506b0ece1"
      },
      "execution_count": 91,
      "outputs": [
        {
          "output_type": "stream",
          "name": "stdout",
          "text": [
            "Address: 47 A Mc Robert Ganj, Price: $250,000.00\n",
            "Address: 11/307 Arya Nagar, Price: $1,200,000.00, Number of rooms: 12\n"
          ]
        }
      ]
    },
    {
      "cell_type": "markdown",
      "source": [],
      "metadata": {
        "id": "JVln1zphvaHW"
      }
    },
    {
      "cell_type": "code",
      "source": [],
      "metadata": {
        "id": "j7voqQ-Jm30-"
      },
      "execution_count": 35,
      "outputs": []
    },
    {
      "cell_type": "markdown",
      "source": [],
      "metadata": {
        "id": "6IW6JmYijaFK"
      }
    },
    {
      "cell_type": "markdown",
      "source": [],
      "metadata": {
        "id": "k4OyqnuYiysR"
      }
    },
    {
      "cell_type": "code",
      "source": [],
      "metadata": {
        "id": "NY4mfCauM91F"
      },
      "execution_count": null,
      "outputs": []
    }
  ]
}